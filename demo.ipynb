{
 "cells": [
  {
   "cell_type": "code",
   "execution_count": 9,
   "id": "3a2fd61a",
   "metadata": {},
   "outputs": [],
   "source": [
    "#importing the MicroAgent class from micro_agent.py\n",
    "\n",
    "from micro_agent import MicroAgent\n"
   ]
  },
  {
   "cell_type": "code",
   "execution_count": null,
   "id": "a4842bf8",
   "metadata": {},
   "outputs": [],
   "source": [
    "# example 1, with structured output as False (default).\n",
    "\n",
    "def add(a: int, b: int) -> int:\n",
    "    \"\"\"Adds two numbers\"\"\"\n",
    "    return a + b\n",
    "\n",
    "def subtract(a: int, b: int) -> int:\n",
    "    \"\"\"Subtracts second number from first\"\"\"\n",
    "    return a - b\n",
    "\n",
    "def greet(name: str) -> str:\n",
    "    \"\"\"Greets a person by name\"\"\"\n",
    "    return f\"Hello, {name}!\"\n",
    "\n",
    "def multiply(a: int, b: int) -> int:\n",
    "    \"\"\"Multiplies two numbers\"\"\"\n",
    "    return a * b\n",
    "\n",
    "agent = MicroAgent(tools=[add, subtract, multiply, greet])"
   ]
  },
  {
   "cell_type": "code",
   "execution_count": 14,
   "id": "9b21a4db",
   "metadata": {},
   "outputs": [
    {
     "data": {
      "text/plain": [
       "15"
      ]
     },
     "execution_count": 14,
     "metadata": {},
     "output_type": "execute_result"
    }
   ],
   "source": [
    "agent.run(\"Add 10 and 5\")"
   ]
  },
  {
   "cell_type": "code",
   "execution_count": 13,
   "id": "7901a9ca",
   "metadata": {},
   "outputs": [
    {
     "data": {
      "text/plain": [
       "8"
      ]
     },
     "execution_count": 13,
     "metadata": {},
     "output_type": "execute_result"
    }
   ],
   "source": [
    "agent.run(\"Take away 2 from 10\")"
   ]
  },
  {
   "cell_type": "code",
   "execution_count": 19,
   "id": "f20315a3",
   "metadata": {},
   "outputs": [
    {
     "data": {
      "text/plain": [
       "'Hello, world!'"
      ]
     },
     "execution_count": 19,
     "metadata": {},
     "output_type": "execute_result"
    }
   ],
   "source": [
    "agent.run(\"Say hello to the world\")"
   ]
  },
  {
   "cell_type": "code",
   "execution_count": null,
   "id": "a5d5976f",
   "metadata": {},
   "outputs": [],
   "source": [
    "# example 2, with structured output as True.\n",
    "\n",
    "\n",
    "agent1 = MicroAgent(tools=[add, subtract, multiply, greet], structured_output=True)"
   ]
  },
  {
   "cell_type": "code",
   "execution_count": 22,
   "id": "0a85b290",
   "metadata": {},
   "outputs": [
    {
     "data": {
      "text/plain": [
       "{'user_query': 'Add 10 and 5',\n",
       " 'function_called': 'add',\n",
       " 'arguments': {'a': 10, 'b': 5},\n",
       " 'raw_model_output': ' add(a=10, b=5) ',\n",
       " 'result': 15}"
      ]
     },
     "execution_count": 22,
     "metadata": {},
     "output_type": "execute_result"
    }
   ],
   "source": [
    "agent1.run(\"Add 10 and 5\")"
   ]
  },
  {
   "cell_type": "code",
   "execution_count": 23,
   "id": "c751fcb8",
   "metadata": {},
   "outputs": [
    {
     "data": {
      "text/plain": [
       "{'user_query': 'Take away 2 from 10',\n",
       " 'function_called': 'subtract',\n",
       " 'arguments': {'a': 10, 'b': 2},\n",
       " 'raw_model_output': ' subtract(a=10, b=2) ',\n",
       " 'result': 8}"
      ]
     },
     "execution_count": 23,
     "metadata": {},
     "output_type": "execute_result"
    }
   ],
   "source": [
    "agent1.run(\"Take away 2 from 10\")"
   ]
  },
  {
   "cell_type": "code",
   "execution_count": null,
   "id": "75876598",
   "metadata": {},
   "outputs": [
    {
     "data": {
      "text/plain": [
       "{'user_query': 'Say hello to the world',\n",
       " 'function_called': 'greet',\n",
       " 'arguments': {'name': 'world'},\n",
       " 'raw_model_output': \" greet(name='world') \",\n",
       " 'result': 'Hello, world!'}"
      ]
     },
     "execution_count": 26,
     "metadata": {},
     "output_type": "execute_result"
    }
   ],
   "source": [
    "agent1.run(\"Say hello to the world\")"
   ]
  },
  {
   "cell_type": "code",
   "execution_count": null,
   "id": "65ff8c65",
   "metadata": {},
   "outputs": [],
   "source": [
    "# example 3, key lookups\n",
    "\n",
    "agent2 = MicroAgent(tools=[add, subtract, multiply, greet], structured_output=True)"
   ]
  },
  {
   "cell_type": "code",
   "execution_count": 29,
   "id": "af6042da",
   "metadata": {},
   "outputs": [
    {
     "data": {
      "text/plain": [
       "' add(a=10, b=5) '"
      ]
     },
     "execution_count": 29,
     "metadata": {},
     "output_type": "execute_result"
    }
   ],
   "source": [
    "agent2.run(\"Add 10 and 5\")[\"raw_model_output\"]"
   ]
  },
  {
   "cell_type": "code",
   "execution_count": 30,
   "id": "2d20affc",
   "metadata": {},
   "outputs": [
    {
     "data": {
      "text/plain": [
       "'subtract'"
      ]
     },
     "execution_count": 30,
     "metadata": {},
     "output_type": "execute_result"
    }
   ],
   "source": [
    "agent2.run(\"Take away 2 from 10\")[\"function_called\"]"
   ]
  },
  {
   "cell_type": "code",
   "execution_count": 31,
   "id": "db1f2823",
   "metadata": {},
   "outputs": [
    {
     "data": {
      "text/plain": [
       "{'name': 'world'}"
      ]
     },
     "execution_count": 31,
     "metadata": {},
     "output_type": "execute_result"
    }
   ],
   "source": [
    "agent2.run(\"Say hello to the world\")[\"arguments\"]"
   ]
  },
  {
   "cell_type": "code",
   "execution_count": 32,
   "id": "c90ca0cc",
   "metadata": {},
   "outputs": [],
   "source": [
    "# errors\n",
    "\n",
    "agent3 = MicroAgent(tools=[add, subtract], structured_output=True)"
   ]
  },
  {
   "cell_type": "code",
   "execution_count": 34,
   "id": "9cc6a2f1",
   "metadata": {},
   "outputs": [
    {
     "ename": "ValueError",
     "evalue": "Invalid function call: reverse the string 'hello')",
     "output_type": "error",
     "traceback": [
      "\u001b[1;31m---------------------------------------------------------------------------\u001b[0m",
      "\u001b[1;31mValueError\u001b[0m                                Traceback (most recent call last)",
      "Cell \u001b[1;32mIn[34], line 1\u001b[0m\n\u001b[1;32m----> 1\u001b[0m \u001b[43magent3\u001b[49m\u001b[38;5;241;43m.\u001b[39;49m\u001b[43mrun\u001b[49m\u001b[43m(\u001b[49m\u001b[38;5;124;43m\"\u001b[39;49m\u001b[38;5;124;43mreverse the string \u001b[39;49m\u001b[38;5;124;43m'\u001b[39;49m\u001b[38;5;124;43mhello\u001b[39;49m\u001b[38;5;124;43m\"\u001b[39;49m\u001b[43m)\u001b[49m \u001b[38;5;66;03m# reverse string is not defined\u001b[39;00m\n",
      "File \u001b[1;32mc:\\Users\\Kamal\\OneDrive\\Documents\\Kamal_files\\GitHub_Folders\\microgpt-caller\\micro_agent.py:76\u001b[0m, in \u001b[0;36mMicroAgent.run\u001b[1;34m(self, user_query)\u001b[0m\n\u001b[0;32m     74\u001b[0m \u001b[38;5;28;01mdef\u001b[39;00m \u001b[38;5;21mrun\u001b[39m(\u001b[38;5;28mself\u001b[39m, user_query: \u001b[38;5;28mstr\u001b[39m):\n\u001b[0;32m     75\u001b[0m     model_output \u001b[38;5;241m=\u001b[39m \u001b[38;5;28mself\u001b[39m\u001b[38;5;241m.\u001b[39m_generate_model_output(user_query)\n\u001b[1;32m---> 76\u001b[0m     call_json \u001b[38;5;241m=\u001b[39m \u001b[38;5;28;43mself\u001b[39;49m\u001b[38;5;241;43m.\u001b[39;49m\u001b[43m_parse_raw_to_json\u001b[49m\u001b[43m(\u001b[49m\u001b[43mmodel_output\u001b[49m\u001b[43m)\u001b[49m\n\u001b[0;32m     78\u001b[0m     fn_name \u001b[38;5;241m=\u001b[39m call_json[\u001b[38;5;124m\"\u001b[39m\u001b[38;5;124mname\u001b[39m\u001b[38;5;124m\"\u001b[39m]\n\u001b[0;32m     79\u001b[0m     args \u001b[38;5;241m=\u001b[39m call_json\u001b[38;5;241m.\u001b[39mget(\u001b[38;5;124m\"\u001b[39m\u001b[38;5;124marguments\u001b[39m\u001b[38;5;124m\"\u001b[39m, {})\n",
      "File \u001b[1;32mc:\\Users\\Kamal\\OneDrive\\Documents\\Kamal_files\\GitHub_Folders\\microgpt-caller\\micro_agent.py:37\u001b[0m, in \u001b[0;36mMicroAgent._parse_raw_to_json\u001b[1;34m(self, raw_call)\u001b[0m\n\u001b[0;32m     35\u001b[0m match \u001b[38;5;241m=\u001b[39m re\u001b[38;5;241m.\u001b[39mmatch(\u001b[38;5;124mr\u001b[39m\u001b[38;5;124m\"\u001b[39m\u001b[38;5;124m(\u001b[39m\u001b[38;5;124m\\\u001b[39m\u001b[38;5;124mw+)\u001b[39m\u001b[38;5;124m\\\u001b[39m\u001b[38;5;124m((.*)\u001b[39m\u001b[38;5;124m\\\u001b[39m\u001b[38;5;124m)\u001b[39m\u001b[38;5;124m\"\u001b[39m, raw_call)\n\u001b[0;32m     36\u001b[0m \u001b[38;5;28;01mif\u001b[39;00m \u001b[38;5;129;01mnot\u001b[39;00m match:\n\u001b[1;32m---> 37\u001b[0m     \u001b[38;5;28;01mraise\u001b[39;00m \u001b[38;5;167;01mValueError\u001b[39;00m(\u001b[38;5;124mf\u001b[39m\u001b[38;5;124m\"\u001b[39m\u001b[38;5;124mInvalid function call: \u001b[39m\u001b[38;5;132;01m{\u001b[39;00mraw_call\u001b[38;5;132;01m}\u001b[39;00m\u001b[38;5;124m\"\u001b[39m)\n\u001b[0;32m     39\u001b[0m fn_name, args_str \u001b[38;5;241m=\u001b[39m match\u001b[38;5;241m.\u001b[39mgroups()\n\u001b[0;32m     40\u001b[0m args \u001b[38;5;241m=\u001b[39m {}\n",
      "\u001b[1;31mValueError\u001b[0m: Invalid function call: reverse the string 'hello')"
     ]
    }
   ],
   "source": [
    "agent3.run(\"reverse the string 'hello\") # reverse string is not defined"
   ]
  }
 ],
 "metadata": {
  "kernelspec": {
   "display_name": "Python 3",
   "language": "python",
   "name": "python3"
  },
  "language_info": {
   "codemirror_mode": {
    "name": "ipython",
    "version": 3
   },
   "file_extension": ".py",
   "mimetype": "text/x-python",
   "name": "python",
   "nbconvert_exporter": "python",
   "pygments_lexer": "ipython3",
   "version": "3.11.0"
  }
 },
 "nbformat": 4,
 "nbformat_minor": 5
}
