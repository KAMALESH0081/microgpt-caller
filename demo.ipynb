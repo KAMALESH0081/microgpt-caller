{
 "cells": [
  {
   "cell_type": "code",
   "execution_count": 26,
   "id": "5fcc373d",
   "metadata": {},
   "outputs": [],
   "source": [
    "from main import call_agent"
   ]
  },
  {
   "cell_type": "code",
   "execution_count": 28,
   "id": "0e0f1f36",
   "metadata": {},
   "outputs": [
    {
     "name": "stdout",
     "output_type": "stream",
     "text": [
      "Model output:  factorial(n=5) \n"
     ]
    },
    {
     "data": {
      "text/plain": [
       "('⚠️ Error running function:', NameError(\"name 'factorial' is not defined\"))"
      ]
     },
     "execution_count": 28,
     "metadata": {},
     "output_type": "execute_result"
    }
   ],
   "source": [
    "# ---- New example developer functions ----\n",
    "def cube(n: int) -> int:\n",
    "    \"\"\"Cubes a number\"\"\"\n",
    "    return n ** 3\n",
    "\n",
    "def starts_with(text: str, prefix: str) -> bool:\n",
    "    \"\"\"Checks if text starts with a given prefix\"\"\"\n",
    "    return text.startswith(prefix)\n",
    "\n",
    "def ends_with(text: str, suffix: str) -> bool:\n",
    "    \"\"\"Checks if text ends with a given suffix\"\"\"\n",
    "    return text.endswith(suffix)\n",
    "\n",
    "def repeat(text: str, times: int) -> str:\n",
    "    \"\"\"Repeats a string multiple times\"\"\"\n",
    "    return text * times\n",
    "\n",
    "def factorial(n: int) -> int:\n",
    "    \"\"\"Calculates factorial of a number\"\"\"\n",
    "    result = 1\n",
    "    for i in range(2, n+1):\n",
    "        result *= i\n",
    "    return result\n",
    "\n",
    "tools = [cube, starts_with, ends_with, repeat, factorial]\n",
    "call_agent(\"calculate the factorial of 5\", tool_list = tools, print_model_output=False)"
   ]
  },
  {
   "cell_type": "code",
   "execution_count": 3,
   "id": "4c7cf0b9",
   "metadata": {},
   "outputs": [],
   "source": [
    "tools = [cube, starts_with, ends_with, repeat, factorial]"
   ]
  },
  {
   "cell_type": "code",
   "execution_count": 5,
   "id": "2e9823af",
   "metadata": {},
   "outputs": [
    {
     "name": "stdout",
     "output_type": "stream",
     "text": [
      "Model output:  factorial(n=5) \n"
     ]
    },
    {
     "data": {
      "text/plain": [
       "('⚠️ Error running function:', NameError(\"name 'factorial' is not defined\"))"
      ]
     },
     "execution_count": 5,
     "metadata": {},
     "output_type": "execute_result"
    }
   ],
   "source": [
    "call_agent(\"calculate the factorial of 5\", tool_list = tools, print_model_output=False)"
   ]
  }
 ],
 "metadata": {
  "kernelspec": {
   "display_name": "Python 3",
   "language": "python",
   "name": "python3"
  },
  "language_info": {
   "codemirror_mode": {
    "name": "ipython",
    "version": 3
   },
   "file_extension": ".py",
   "mimetype": "text/x-python",
   "name": "python",
   "nbconvert_exporter": "python",
   "pygments_lexer": "ipython3",
   "version": "3.11.0"
  }
 },
 "nbformat": 4,
 "nbformat_minor": 5
}
